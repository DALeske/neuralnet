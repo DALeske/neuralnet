{
 "cells": [
  {
   "cell_type": "code",
   "execution_count": 1,
   "id": "b5e5d0dc",
   "metadata": {},
   "outputs": [],
   "source": [
    "# Import dependencies\n",
    "import pandas as pd\n",
    "import matplotlib as plt\n",
    "from sklearn.datasets import make_blobs\n",
    "import sklearn as skl\n",
    "import tensorflow as tf"
   ]
  },
  {
   "cell_type": "code",
   "execution_count": 2,
   "id": "d4e46581",
   "metadata": {},
   "outputs": [
    {
     "data": {
      "text/plain": [
       "<AxesSubplot:xlabel='Feature 1', ylabel='Feature 2'>"
      ]
     },
     "execution_count": 2,
     "metadata": {},
     "output_type": "execute_result"
    },
    {
     "data": {
      "image/png": "[encoded data removed]",
      "text/plain": [
       "<Figure size 432x288 with 2 Axes>"
      ]
     },
     "metadata": {
      "needs_background": "light"
     },
     "output_type": "display_data"
    }
   ],
   "source": [
    "# Generate dummy dataset\n",
    "X, y = make_blobs(n_samples = 1000, centers = 2, n_features =2, random_state = 78)\n",
    "\n",
    "# Creating a DataFrame with the dummy data\n",
    "df = pd.DataFrame(X, columns = [\"Feature 1\", \"Feature 2\"])\n",
    "df[\"Target\"] = y\n",
    "\n",
    "#Plotting the dummy data\n",
    "df.plot.scatter(x=\"Feature 1\", y=\"Feature 2\", c='Target', colormap=\"winter\")"
   ]
  },
  {
   "cell_type": "markdown",
   "id": "29b46d18",
   "metadata": {},
   "source": [
    "Train the data"
   ]
  },
  {
   "cell_type": "code",
   "execution_count": 4,
   "id": "4eac8cdd",
   "metadata": {},
   "outputs": [],
   "source": [
    "# Use sklearn to split the dataset\n",
    "from sklearn.model_selection import train_test_split\n",
    "X_train, X_test, y_train, y_test = train_test_split(X,y,random_state = 78)"
   ]
  },
  {
   "cell_type": "markdown",
   "id": "c57483a4",
   "metadata": {},
   "source": [
    "NORMALIZE THE DATA"
   ]
  },
  {
   "cell_type": "code",
   "execution_count": 5,
   "id": "56038f05",
   "metadata": {},
   "outputs": [],
   "source": [
    "# Craete scaler instance\n",
    "X_scaler = skl.preprocessing.StandardScaler()\n",
    "\n",
    "# Fit the scaler\n",
    "X_scaler.fit(X_train)\n",
    "\n",
    "# Scale the data\n",
    "X_train_scaled = X_scaler.transform(X_train)\n",
    "X_test_scaled = X_scaler.transform(X_test)"
   ]
  },
  {
   "cell_type": "markdown",
   "id": "c7d04c1f",
   "metadata": {},
   "source": [
    "CREATE THE NEURAL NETWORK"
   ]
  },
  {
   "cell_type": "code",
   "execution_count": 7,
   "id": "146663c5",
   "metadata": {},
   "outputs": [],
   "source": [
    "# Create the Keras Sequential model\n",
    "nn_model = tf.keras.models.Sequential()"
   ]
  },
  {
   "cell_type": "code",
   "execution_count": 8,
   "id": "48068400",
   "metadata": {},
   "outputs": [],
   "source": [
    "# Add first Dense Layer, including the input layer\n",
    "nn_model.add(tf.keras.layers.Dense(units = 1, activation = \"relu\", input_dim = 2))"
   ]
  },
  {
   "cell_type": "code",
   "execution_count": 9,
   "id": "521d5a75",
   "metadata": {},
   "outputs": [],
   "source": [
    "# Add the output layer that uses a probability activation function\n",
    "nn_model.add(tf.keras.layers.Dense(units=1, activation ='sigmoid'))"
   ]
  },
  {
   "cell_type": "code",
   "execution_count": 10,
   "id": "1ff4a9f1",
   "metadata": {},
   "outputs": [
    {
     "name": "stdout",
     "output_type": "stream",
     "text": [
      "Model: \"sequential\"\n",
      "_________________________________________________________________\n",
      " Layer (type)                Output Shape              Param #   \n",
      "=================================================================\n",
      " dense (Dense)               (None, 1)                 3         \n",
      "                                                                 \n",
      " dense_1 (Dense)             (None, 1)                 2         \n",
      "                                                                 \n",
      "=================================================================\n",
      "Total params: 5\n",
      "Trainable params: 5\n",
      "Non-trainable params: 0\n",
      "_________________________________________________________________\n"
     ]
    }
   ],
   "source": [
    "# Check the structure of the Sequential model\n",
    "nn_model.summary()"
   ]
  },
  {
   "cell_type": "code",
   "execution_count": 11,
   "id": "ee26182c",
   "metadata": {},
   "outputs": [],
   "source": [
    "# Compile the Sequential model together and customize metrics\n",
    "nn_model.compile(loss='binary_crossentropy', optimizer='adam', metrics=['accuracy'])"
   ]
  },
  {
   "cell_type": "code",
   "execution_count": 12,
   "id": "01a4ffc6",
   "metadata": {},
   "outputs": [
    {
     "name": "stdout",
     "output_type": "stream",
     "text": [
      "Epoch 1/100\n",
      "24/24 [==============================] - 2s 716us/step - loss: 0.4621 - accuracy: 0.9573\n",
      "Epoch 2/100\n",
      "24/24 [==============================] - 0s 669us/step - loss: 0.4501 - accuracy: 0.9600\n",
      "Epoch 3/100\n",
      "24/24 [==============================] - 0s 663us/step - loss: 0.4382 - accuracy: 0.9613\n",
      "Epoch 4/100\n",
      "24/24 [==============================] - 0s 697us/step - loss: 0.4269 - accuracy: 0.9653\n",
      "Epoch 5/100\n",
      "24/24 [==============================] - 0s 629us/step - loss: 0.4159 - accuracy: 0.9693\n",
      "Epoch 6/100\n",
      "24/24 [==============================] - 0s 708us/step - loss: 0.4055 - accuracy: 0.9707\n",
      "Epoch 7/100\n",
      "24/24 [==============================] - 0s 742us/step - loss: 0.3952 - accuracy: 0.9747\n",
      "Epoch 8/100\n",
      "24/24 [==============================] - 0s 799us/step - loss: 0.3855 - accuracy: 0.9773\n",
      "Epoch 9/100\n",
      "24/24 [==============================] - 0s 722us/step - loss: 0.3762 - accuracy: 0.9800\n",
      "Epoch 10/100\n",
      "24/24 [==============================] - 0s 653us/step - loss: 0.3672 - accuracy: 0.9813\n",
      "Epoch 11/100\n",
      "24/24 [==============================] - 0s 797us/step - loss: 0.3585 - accuracy: 0.9813\n",
      "Epoch 12/100\n",
      "24/24 [==============================] - 0s 686us/step - loss: 0.3501 - accuracy: 0.9813\n",
      "Epoch 13/100\n",
      "24/24 [==============================] - 0s 668us/step - loss: 0.3420 - accuracy: 0.9813\n",
      "Epoch 14/100\n",
      "24/24 [==============================] - 0s 733us/step - loss: 0.3342 - accuracy: 0.9840\n",
      "Epoch 15/100\n",
      "24/24 [==============================] - 0s 687us/step - loss: 0.3266 - accuracy: 0.9853\n",
      "Epoch 16/100\n",
      "24/24 [==============================] - 0s 796us/step - loss: 0.3193 - accuracy: 0.9853\n",
      "Epoch 17/100\n",
      "24/24 [==============================] - 0s 712us/step - loss: 0.3122 - accuracy: 0.9853\n",
      "Epoch 18/100\n",
      "24/24 [==============================] - 0s 691us/step - loss: 0.3053 - accuracy: 0.9867\n",
      "Epoch 19/100\n",
      "24/24 [==============================] - 0s 689us/step - loss: 0.2986 - accuracy: 0.9867\n",
      "Epoch 20/100\n",
      "24/24 [==============================] - 0s 733us/step - loss: 0.2919 - accuracy: 0.9867\n",
      "Epoch 21/100\n",
      "24/24 [==============================] - 0s 674us/step - loss: 0.2854 - accuracy: 0.9880\n",
      "Epoch 22/100\n",
      "24/24 [==============================] - 0s 714us/step - loss: 0.2791 - accuracy: 0.9880\n",
      "Epoch 23/100\n",
      "24/24 [==============================] - 0s 792us/step - loss: 0.2729 - accuracy: 0.9880\n",
      "Epoch 24/100\n",
      "24/24 [==============================] - 0s 777us/step - loss: 0.2670 - accuracy: 0.9880\n",
      "Epoch 25/100\n",
      "24/24 [==============================] - 0s 782us/step - loss: 0.2612 - accuracy: 0.9907\n",
      "Epoch 26/100\n",
      "24/24 [==============================] - 0s 697us/step - loss: 0.2556 - accuracy: 0.9920\n",
      "Epoch 27/100\n",
      "24/24 [==============================] - 0s 719us/step - loss: 0.2502 - accuracy: 0.9947\n",
      "Epoch 28/100\n",
      "24/24 [==============================] - 0s 734us/step - loss: 0.2449 - accuracy: 0.9947\n",
      "Epoch 29/100\n",
      "24/24 [==============================] - 0s 707us/step - loss: 0.2398 - accuracy: 0.9960\n",
      "Epoch 30/100\n",
      "24/24 [==============================] - 0s 694us/step - loss: 0.2349 - accuracy: 0.9960\n",
      "Epoch 31/100\n",
      "24/24 [==============================] - 0s 743us/step - loss: 0.2301 - accuracy: 0.9960\n",
      "Epoch 32/100\n",
      "24/24 [==============================] - 0s 722us/step - loss: 0.2255 - accuracy: 0.9960\n",
      "Epoch 33/100\n",
      "24/24 [==============================] - 0s 727us/step - loss: 0.2209 - accuracy: 0.9960\n",
      "Epoch 34/100\n",
      "24/24 [==============================] - 0s 750us/step - loss: 0.2165 - accuracy: 0.9960\n",
      "Epoch 35/100\n",
      "24/24 [==============================] - 0s 777us/step - loss: 0.2123 - accuracy: 0.9960\n",
      "Epoch 36/100\n",
      "24/24 [==============================] - 0s 694us/step - loss: 0.2081 - accuracy: 0.9973\n",
      "Epoch 37/100\n",
      "24/24 [==============================] - 0s 765us/step - loss: 0.2041 - accuracy: 0.9973\n",
      "Epoch 38/100\n",
      "24/24 [==============================] - 0s 788us/step - loss: 0.2001 - accuracy: 0.9973\n",
      "Epoch 39/100\n",
      "24/24 [==============================] - 0s 755us/step - loss: 0.1963 - accuracy: 0.9973\n",
      "Epoch 40/100\n",
      "24/24 [==============================] - 0s 790us/step - loss: 0.1926 - accuracy: 0.9987\n",
      "Epoch 41/100\n",
      "24/24 [==============================] - 0s 833us/step - loss: 0.1889 - accuracy: 0.9987\n",
      "Epoch 42/100\n",
      "24/24 [==============================] - 0s 774us/step - loss: 0.1854 - accuracy: 0.9987\n",
      "Epoch 43/100\n",
      "24/24 [==============================] - 0s 686us/step - loss: 0.1820 - accuracy: 0.9987\n",
      "Epoch 44/100\n",
      "24/24 [==============================] - 0s 690us/step - loss: 0.1786 - accuracy: 0.9987\n",
      "Epoch 45/100\n",
      "24/24 [==============================] - 0s 719us/step - loss: 0.1754 - accuracy: 0.9987\n",
      "Epoch 46/100\n",
      "24/24 [==============================] - 0s 656us/step - loss: 0.1722 - accuracy: 0.9987\n",
      "Epoch 47/100\n",
      "24/24 [==============================] - 0s 673us/step - loss: 0.1690 - accuracy: 1.0000\n",
      "Epoch 48/100\n",
      "24/24 [==============================] - 0s 710us/step - loss: 0.1660 - accuracy: 1.0000\n",
      "Epoch 49/100\n",
      "24/24 [==============================] - 0s 777us/step - loss: 0.1630 - accuracy: 1.0000\n",
      "Epoch 50/100\n",
      "24/24 [==============================] - 0s 767us/step - loss: 0.1602 - accuracy: 1.0000\n",
      "Epoch 51/100\n",
      "24/24 [==============================] - 0s 728us/step - loss: 0.1574 - accuracy: 1.0000\n",
      "Epoch 52/100\n",
      "24/24 [==============================] - 0s 736us/step - loss: 0.1547 - accuracy: 1.0000\n",
      "Epoch 53/100\n",
      "24/24 [==============================] - 0s 676us/step - loss: 0.1520 - accuracy: 1.0000\n",
      "Epoch 54/100\n",
      "24/24 [==============================] - 0s 652us/step - loss: 0.1493 - accuracy: 1.0000\n",
      "Epoch 55/100\n",
      "24/24 [==============================] - 0s 873us/step - loss: 0.1468 - accuracy: 1.0000\n",
      "Epoch 56/100\n",
      "24/24 [==============================] - 0s 742us/step - loss: 0.1443 - accuracy: 1.0000\n",
      "Epoch 57/100\n",
      "24/24 [==============================] - 0s 753us/step - loss: 0.1419 - accuracy: 1.0000\n",
      "Epoch 58/100\n",
      "24/24 [==============================] - 0s 938us/step - loss: 0.1395 - accuracy: 1.0000\n",
      "Epoch 59/100\n",
      "24/24 [==============================] - 0s 744us/step - loss: 0.1372 - accuracy: 1.0000\n",
      "Epoch 60/100\n",
      "24/24 [==============================] - 0s 731us/step - loss: 0.1349 - accuracy: 1.0000\n",
      "Epoch 61/100\n",
      "24/24 [==============================] - 0s 752us/step - loss: 0.1327 - accuracy: 1.0000\n",
      "Epoch 62/100\n",
      "24/24 [==============================] - 0s 736us/step - loss: 0.1305 - accuracy: 1.0000\n",
      "Epoch 63/100\n",
      "24/24 [==============================] - 0s 752us/step - loss: 0.1284 - accuracy: 1.0000\n",
      "Epoch 64/100\n",
      "24/24 [==============================] - 0s 714us/step - loss: 0.1263 - accuracy: 1.0000\n",
      "Epoch 65/100\n",
      "24/24 [==============================] - 0s 713us/step - loss: 0.1243 - accuracy: 1.0000\n",
      "Epoch 66/100\n",
      "24/24 [==============================] - 0s 775us/step - loss: 0.1223 - accuracy: 1.0000\n",
      "Epoch 67/100\n",
      "24/24 [==============================] - 0s 650us/step - loss: 0.1204 - accuracy: 1.0000\n",
      "Epoch 68/100\n",
      "24/24 [==============================] - 0s 621us/step - loss: 0.1184 - accuracy: 1.0000\n",
      "Epoch 69/100\n",
      "24/24 [==============================] - 0s 665us/step - loss: 0.1166 - accuracy: 1.0000\n",
      "Epoch 70/100\n",
      "24/24 [==============================] - 0s 680us/step - loss: 0.1147 - accuracy: 1.0000\n",
      "Epoch 71/100\n",
      "24/24 [==============================] - 0s 674us/step - loss: 0.1129 - accuracy: 1.0000\n",
      "Epoch 72/100\n",
      "24/24 [==============================] - 0s 673us/step - loss: 0.1112 - accuracy: 1.0000\n",
      "Epoch 73/100\n",
      "24/24 [==============================] - 0s 649us/step - loss: 0.1094 - accuracy: 1.0000\n",
      "Epoch 74/100\n",
      "24/24 [==============================] - 0s 651us/step - loss: 0.1078 - accuracy: 1.0000\n",
      "Epoch 75/100\n",
      "24/24 [==============================] - 0s 699us/step - loss: 0.1061 - accuracy: 1.0000\n",
      "Epoch 76/100\n",
      "24/24 [==============================] - 0s 749us/step - loss: 0.1045 - accuracy: 1.0000\n",
      "Epoch 77/100\n",
      "24/24 [==============================] - 0s 705us/step - loss: 0.1029 - accuracy: 1.0000\n",
      "Epoch 78/100\n",
      "24/24 [==============================] - 0s 660us/step - loss: 0.1013 - accuracy: 1.0000\n",
      "Epoch 79/100\n",
      "24/24 [==============================] - 0s 680us/step - loss: 0.0998 - accuracy: 1.0000\n",
      "Epoch 80/100\n",
      "24/24 [==============================] - 0s 729us/step - loss: 0.0983 - accuracy: 1.0000\n",
      "Epoch 81/100\n"
     ]
    },
    {
     "name": "stdout",
     "output_type": "stream",
     "text": [
      "24/24 [==============================] - 0s 637us/step - loss: 0.0968 - accuracy: 1.0000\n",
      "Epoch 82/100\n",
      "24/24 [==============================] - 0s 667us/step - loss: 0.0954 - accuracy: 1.0000\n",
      "Epoch 83/100\n",
      "24/24 [==============================] - 0s 669us/step - loss: 0.0940 - accuracy: 1.0000\n",
      "Epoch 84/100\n",
      "24/24 [==============================] - 0s 660us/step - loss: 0.0926 - accuracy: 1.0000\n",
      "Epoch 85/100\n",
      "24/24 [==============================] - 0s 642us/step - loss: 0.0912 - accuracy: 1.0000\n",
      "Epoch 86/100\n",
      "24/24 [==============================] - 0s 636us/step - loss: 0.0899 - accuracy: 1.0000\n",
      "Epoch 87/100\n",
      "24/24 [==============================] - 0s 679us/step - loss: 0.0886 - accuracy: 1.0000\n",
      "Epoch 88/100\n",
      "24/24 [==============================] - 0s 713us/step - loss: 0.0873 - accuracy: 1.0000\n",
      "Epoch 89/100\n",
      "24/24 [==============================] - 0s 697us/step - loss: 0.0861 - accuracy: 1.0000\n",
      "Epoch 90/100\n",
      "24/24 [==============================] - 0s 663us/step - loss: 0.0848 - accuracy: 1.0000\n",
      "Epoch 91/100\n",
      "24/24 [==============================] - 0s 661us/step - loss: 0.0836 - accuracy: 1.0000\n",
      "Epoch 92/100\n",
      "24/24 [==============================] - 0s 624us/step - loss: 0.0824 - accuracy: 1.0000\n",
      "Epoch 93/100\n",
      "24/24 [==============================] - 0s 670us/step - loss: 0.0813 - accuracy: 1.0000\n",
      "Epoch 94/100\n",
      "24/24 [==============================] - 0s 683us/step - loss: 0.0801 - accuracy: 1.0000\n",
      "Epoch 95/100\n",
      "24/24 [==============================] - 0s 702us/step - loss: 0.0790 - accuracy: 1.0000\n",
      "Epoch 96/100\n",
      "24/24 [==============================] - 0s 797us/step - loss: 0.0779 - accuracy: 1.0000\n",
      "Epoch 97/100\n",
      "24/24 [==============================] - 0s 716us/step - loss: 0.0768 - accuracy: 1.0000\n",
      "Epoch 98/100\n",
      "24/24 [==============================] - 0s 683us/step - loss: 0.0757 - accuracy: 1.0000\n",
      "Epoch 99/100\n",
      "24/24 [==============================] - 0s 1ms/step - loss: 0.0747 - accuracy: 1.0000\n",
      "Epoch 100/100\n",
      "24/24 [==============================] - 0s 753us/step - loss: 0.0737 - accuracy: 1.0000\n"
     ]
    }
   ],
   "source": [
    "# Fit the model to the trainig data\n",
    "fit_model=nn_model.fit(X_train_scaled, y_train, epochs=100)"
   ]
  },
  {
   "cell_type": "markdown",
   "id": "2cfcd625",
   "metadata": {},
   "source": [
    "VISUALIZE LOSS"
   ]
  },
  {
   "cell_type": "code",
   "execution_count": 13,
   "id": "9401b28b",
   "metadata": {},
   "outputs": [
    {
     "data": {
      "text/plain": [
       "<AxesSubplot:>"
      ]
     },
     "execution_count": 13,
     "metadata": {},
     "output_type": "execute_result"
    },
    {
     "data": {
      "image/png": "[encoded data removed]",
      "text/plain": [
       "<Figure size 432x288 with 1 Axes>"
      ]
     },
     "metadata": {
      "needs_background": "light"
     },
     "output_type": "display_data"
    }
   ],
   "source": [
    "# Creaste a DataFrame containing training history\n",
    "history_df = pd.DataFrame(fit_model.history, index=range(1,len(fit_model.history['loss'])+1))\n",
    "\n",
    "# PLot the loss\n",
    "history_df.plot(y='loss')"
   ]
  },
  {
   "cell_type": "code",
   "execution_count": 14,
   "id": "98d1fc83",
   "metadata": {},
   "outputs": [
    {
     "data": {
      "text/plain": [
       "<AxesSubplot:>"
      ]
     },
     "execution_count": 14,
     "metadata": {},
     "output_type": "execute_result"
    },
    {
     "data": {
      "image/png": "[encoded data removed]",
      "text/plain": [
       "<Figure size 432x288 with 1 Axes>"
      ]
     },
     "metadata": {
      "needs_background": "light"
     },
     "output_type": "display_data"
    }
   ],
   "source": [
    "# PLot the accuracy\n",
    "history_df.plot(y='accuracy')"
   ]
  },
  {
   "cell_type": "markdown",
   "id": "357d3aa3",
   "metadata": {},
   "source": [
    "Evalaute the model with the test data"
   ]
  },
  {
   "cell_type": "code",
   "execution_count": 15,
   "id": "1c0fd9ac",
   "metadata": {},
   "outputs": [
    {
     "name": "stdout",
     "output_type": "stream",
     "text": [
      "8/8 - 2s - loss: 0.0688 - accuracy: 1.0000 - 2s/epoch - 255ms/step\n",
      "loss: 0.06877607852220535, Accuracy: 1.0\n"
     ]
    }
   ],
   "source": [
    "# Evaluate the model using the test data\n",
    "model_loss, model_accuracy = nn_model.evaluate(X_test_scaled, y_test, verbose=2)\n",
    "print(f'loss: {model_loss}, Accuracy: {model_accuracy}')"
   ]
  },
  {
   "cell_type": "markdown",
   "id": "6402a1d6",
   "metadata": {},
   "source": [
    "PREDICT ON A NEW DATASET"
   ]
  },
  {
   "cell_type": "code",
   "execution_count": 17,
   "id": "44c0c4f8",
   "metadata": {},
   "outputs": [
    {
     "data": {
      "text/plain": [
       "array([[0],\n",
       "       [1],\n",
       "       [0],\n",
       "       [1],\n",
       "       [0],\n",
       "       [0],\n",
       "       [1],\n",
       "       [1],\n",
       "       [1],\n",
       "       [0]])"
      ]
     },
     "execution_count": 17,
     "metadata": {},
     "output_type": "execute_result"
    }
   ],
   "source": [
    "# Predict the classification of a new set of blob data\n",
    "new_X, new_Y = make_blobs(n_samples=10, centers=2, n_features=2, random_state=78)\n",
    "new_X_scaled = X_scaler.transform(new_X)\n",
    "(nn_model.predict(new_X_scaled) > 0.5).astype(\"int32\")"
   ]
  },
  {
   "cell_type": "code",
   "execution_count": null,
   "id": "c4ed7daa",
   "metadata": {},
   "outputs": [],
   "source": []
  }
 ],
 "metadata": {
  "kernelspec": {
   "display_name": "mlenv",
   "language": "python",
   "name": "mlenv"
  },
  "language_info": {
   "codemirror_mode": {
    "name": "ipython",
    "version": 3
   },
   "file_extension": ".py",
   "mimetype": "text/x-python",
   "name": "python",
   "nbconvert_exporter": "python",
   "pygments_lexer": "ipython3",
   "version": "3.7.11"
  }
 },
 "nbformat": 4,
 "nbformat_minor": 5
}
