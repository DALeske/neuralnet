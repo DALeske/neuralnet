{
 "cells": [
  {
   "cell_type": "code",
   "execution_count": 1,
   "id": "b5e5d0dc",
   "metadata": {},
   "outputs": [],
   "source": [
    "# Import dependencies\n",
    "import pandas as pd\n",
    "import matplotlib as plt\n",
    "from sklearn.datasets import make_blobs\n",
    "import sklearn as skl\n",
    "import tensorflow as tf"
   ]
  },
  {
   "cell_type": "code",
   "execution_count": 2,
   "id": "d4e46581",
   "metadata": {},
   "outputs": [
    {
     "data": {
      "text/plain": [
       "<AxesSubplot:xlabel='Feature 1', ylabel='Feature 2'>"
      ]
     },
     "execution_count": 2,
     "metadata": {},
     "output_type": "execute_result"
    },
    {
     "data": {
      "image/png": "[encoded data removed]",
      "text/plain": [
       "<Figure size 432x288 with 2 Axes>"
      ]
     },
     "metadata": {
      "needs_background": "light"
     },
     "output_type": "display_data"
    }
   ],
   "source": [
    "# Generate dummy dataset\n",
    "X, y = make_blobs(n_samples = 1000, centers = 2, n_features =2, random_state = 78)\n",
    "\n",
    "# Creating a DataFrame with the dummy data\n",
    "df = pd.DataFrame(X, columns = [\"Feature 1\", \"Feature 2\"])\n",
    "df[\"Target\"] = y\n",
    "\n",
    "#Plotting the dummy data\n",
    "df.plot.scatter(x=\"Feature 1\", y=\"Feature 2\", c='Target', colormap=\"winter\")"
   ]
  },
  {
   "cell_type": "markdown",
   "id": "29b46d18",
   "metadata": {},
   "source": [
    "Train the data"
   ]
  },
  {
   "cell_type": "code",
   "execution_count": 3,
   "id": "4eac8cdd",
   "metadata": {},
   "outputs": [],
   "source": [
    "# Use sklearn to split the dataset\n",
    "from sklearn.model_selection import train_test_split\n",
    "X_train, X_test, y_train, y_test = train_test_split(X,y,random_state = 78)"
   ]
  },
  {
   "cell_type": "markdown",
   "id": "c57483a4",
   "metadata": {},
   "source": [
    "NORMALIZE THE DATA"
   ]
  },
  {
   "cell_type": "code",
   "execution_count": 4,
   "id": "56038f05",
   "metadata": {},
   "outputs": [],
   "source": [
    "# Craete scaler instance\n",
    "X_scaler = skl.preprocessing.StandardScaler()\n",
    "\n",
    "# Fit the scaler\n",
    "X_scaler.fit(X_train)\n",
    "\n",
    "# Scale the data\n",
    "X_train_scaled = X_scaler.transform(X_train)\n",
    "X_test_scaled = X_scaler.transform(X_test)"
   ]
  },
  {
   "cell_type": "markdown",
   "id": "c7d04c1f",
   "metadata": {},
   "source": [
    "CREATE THE NEURAL NETWORK"
   ]
  },
  {
   "cell_type": "code",
   "execution_count": 5,
   "id": "146663c5",
   "metadata": {},
   "outputs": [],
   "source": [
    "# Create the Keras Sequential model\n",
    "nn_model = tf.keras.models.Sequential()"
   ]
  },
  {
   "cell_type": "code",
   "execution_count": 6,
   "id": "48068400",
   "metadata": {},
   "outputs": [],
   "source": [
    "# Add first Dense Layer, including the input layer\n",
    "nn_model.add(tf.keras.layers.Dense(units = 1, activation = \"relu\", input_dim = 2))"
   ]
  },
  {
   "cell_type": "code",
   "execution_count": 7,
   "id": "521d5a75",
   "metadata": {},
   "outputs": [],
   "source": [
    "# Add the output layer that uses a probability activation function\n",
    "nn_model.add(tf.keras.layers.Dense(units=1, activation ='sigmoid'))"
   ]
  },
  {
   "cell_type": "code",
   "execution_count": 8,
   "id": "1ff4a9f1",
   "metadata": {},
   "outputs": [
    {
     "name": "stdout",
     "output_type": "stream",
     "text": [
      "Model: \"sequential\"\n",
      "_________________________________________________________________\n",
      " Layer (type)                Output Shape              Param #   \n",
      "=================================================================\n",
      " dense (Dense)               (None, 1)                 3         \n",
      "                                                                 \n",
      " dense_1 (Dense)             (None, 1)                 2         \n",
      "                                                                 \n",
      "=================================================================\n",
      "Total params: 5\n",
      "Trainable params: 5\n",
      "Non-trainable params: 0\n",
      "_________________________________________________________________\n"
     ]
    }
   ],
   "source": [
    "# Check the structure of the Sequential model\n",
    "nn_model.summary()"
   ]
  },
  {
   "cell_type": "code",
   "execution_count": 9,
   "id": "ee26182c",
   "metadata": {},
   "outputs": [],
   "source": [
    "# Compile the Sequential model together and customize metrics\n",
    "nn_model.compile(loss='binary_crossentropy', optimizer='adam', metrics=['accuracy'])"
   ]
  },
  {
   "cell_type": "code",
   "execution_count": 10,
   "id": "01a4ffc6",
   "metadata": {},
   "outputs": [
    {
     "name": "stdout",
     "output_type": "stream",
     "text": [
      "Epoch 1/100\n",
      "24/24 [==============================] - 0s 577us/step - loss: 0.4877 - accuracy: 0.9773\n",
      "Epoch 2/100\n",
      "24/24 [==============================] - 0s 514us/step - loss: 0.4740 - accuracy: 0.9800\n",
      "Epoch 3/100\n",
      "24/24 [==============================] - 0s 522us/step - loss: 0.4610 - accuracy: 0.9813\n",
      "Epoch 4/100\n",
      "24/24 [==============================] - 0s 522us/step - loss: 0.4485 - accuracy: 0.9827\n",
      "Epoch 5/100\n",
      "24/24 [==============================] - 0s 565us/step - loss: 0.4365 - accuracy: 0.9827\n",
      "Epoch 6/100\n",
      "24/24 [==============================] - 0s 522us/step - loss: 0.4248 - accuracy: 0.9827\n",
      "Epoch 7/100\n",
      "24/24 [==============================] - 0s 528us/step - loss: 0.4137 - accuracy: 0.9840\n",
      "Epoch 8/100\n",
      "24/24 [==============================] - 0s 565us/step - loss: 0.4028 - accuracy: 0.9840\n",
      "Epoch 9/100\n",
      "24/24 [==============================] - 0s 565us/step - loss: 0.3925 - accuracy: 0.9867\n",
      "Epoch 10/100\n",
      "24/24 [==============================] - 0s 565us/step - loss: 0.3826 - accuracy: 0.9880\n",
      "Epoch 11/100\n",
      "24/24 [==============================] - 0s 565us/step - loss: 0.3731 - accuracy: 0.9880\n",
      "Epoch 12/100\n",
      "24/24 [==============================] - 0s 608us/step - loss: 0.3639 - accuracy: 0.9880\n",
      "Epoch 13/100\n",
      "24/24 [==============================] - 0s 609us/step - loss: 0.3551 - accuracy: 0.9880\n",
      "Epoch 14/100\n",
      "24/24 [==============================] - 0s 609us/step - loss: 0.3466 - accuracy: 0.9880\n",
      "Epoch 15/100\n",
      "24/24 [==============================] - 0s 660us/step - loss: 0.3384 - accuracy: 0.9880\n",
      "Epoch 16/100\n",
      "24/24 [==============================] - 0s 609us/step - loss: 0.3305 - accuracy: 0.9880\n",
      "Epoch 17/100\n",
      "24/24 [==============================] - 0s 615us/step - loss: 0.3228 - accuracy: 0.9880\n",
      "Epoch 18/100\n",
      "24/24 [==============================] - 0s 609us/step - loss: 0.3153 - accuracy: 0.9880\n",
      "Epoch 19/100\n",
      "24/24 [==============================] - 0s 566us/step - loss: 0.3081 - accuracy: 0.9880\n",
      "Epoch 20/100\n",
      "24/24 [==============================] - 0s 633us/step - loss: 0.3010 - accuracy: 0.9893\n",
      "Epoch 21/100\n",
      "24/24 [==============================] - 0s 601us/step - loss: 0.2943 - accuracy: 0.9907\n",
      "Epoch 22/100\n",
      "24/24 [==============================] - 0s 565us/step - loss: 0.2876 - accuracy: 0.9907\n",
      "Epoch 23/100\n",
      "24/24 [==============================] - 0s 573us/step - loss: 0.2812 - accuracy: 0.9920\n",
      "Epoch 24/100\n",
      "24/24 [==============================] - 0s 582us/step - loss: 0.2750 - accuracy: 0.9920\n",
      "Epoch 25/100\n",
      "24/24 [==============================] - 0s 565us/step - loss: 0.2689 - accuracy: 0.9920\n",
      "Epoch 26/100\n",
      "24/24 [==============================] - 0s 565us/step - loss: 0.2630 - accuracy: 0.9933\n",
      "Epoch 27/100\n",
      "24/24 [==============================] - 0s 635us/step - loss: 0.2574 - accuracy: 0.9947\n",
      "Epoch 28/100\n",
      "24/24 [==============================] - 0s 640us/step - loss: 0.2519 - accuracy: 0.9947\n",
      "Epoch 29/100\n",
      "24/24 [==============================] - 0s 595us/step - loss: 0.2465 - accuracy: 0.9947\n",
      "Epoch 30/100\n",
      "24/24 [==============================] - 0s 562us/step - loss: 0.2413 - accuracy: 0.9960\n",
      "Epoch 31/100\n",
      "24/24 [==============================] - 0s 609us/step - loss: 0.2363 - accuracy: 0.9960\n",
      "Epoch 32/100\n",
      "24/24 [==============================] - 0s 557us/step - loss: 0.2314 - accuracy: 0.9960\n",
      "Epoch 33/100\n",
      "24/24 [==============================] - 0s 585us/step - loss: 0.2266 - accuracy: 0.9960\n",
      "Epoch 34/100\n",
      "24/24 [==============================] - 0s 615us/step - loss: 0.2220 - accuracy: 0.9973\n",
      "Epoch 35/100\n",
      "24/24 [==============================] - 0s 609us/step - loss: 0.2175 - accuracy: 0.9973\n",
      "Epoch 36/100\n",
      "24/24 [==============================] - 0s 565us/step - loss: 0.2131 - accuracy: 0.9973\n",
      "Epoch 37/100\n",
      "24/24 [==============================] - 0s 572us/step - loss: 0.2088 - accuracy: 0.9973\n",
      "Epoch 38/100\n",
      "24/24 [==============================] - 0s 608us/step - loss: 0.2047 - accuracy: 0.9973\n",
      "Epoch 39/100\n",
      "24/24 [==============================] - 0s 609us/step - loss: 0.2007 - accuracy: 0.9973\n",
      "Epoch 40/100\n",
      "24/24 [==============================] - 0s 565us/step - loss: 0.1967 - accuracy: 0.9987\n",
      "Epoch 41/100\n",
      "24/24 [==============================] - 0s 634us/step - loss: 0.1929 - accuracy: 0.9987\n",
      "Epoch 42/100\n",
      "24/24 [==============================] - 0s 610us/step - loss: 0.1892 - accuracy: 0.9987\n",
      "Epoch 43/100\n",
      "24/24 [==============================] - 0s 611us/step - loss: 0.1855 - accuracy: 0.9987\n",
      "Epoch 44/100\n",
      "24/24 [==============================] - 0s 565us/step - loss: 0.1820 - accuracy: 0.9987\n",
      "Epoch 45/100\n",
      "24/24 [==============================] - 0s 609us/step - loss: 0.1786 - accuracy: 1.0000\n",
      "Epoch 46/100\n",
      "24/24 [==============================] - 0s 569us/step - loss: 0.1753 - accuracy: 1.0000\n",
      "Epoch 47/100\n",
      "24/24 [==============================] - 0s 565us/step - loss: 0.1720 - accuracy: 1.0000\n",
      "Epoch 48/100\n",
      "24/24 [==============================] - 0s 652us/step - loss: 0.1688 - accuracy: 1.0000\n",
      "Epoch 49/100\n",
      "24/24 [==============================] - 0s 565us/step - loss: 0.1657 - accuracy: 1.0000\n",
      "Epoch 50/100\n",
      "24/24 [==============================] - 0s 616us/step - loss: 0.1627 - accuracy: 1.0000\n",
      "Epoch 51/100\n",
      "24/24 [==============================] - 0s 609us/step - loss: 0.1597 - accuracy: 1.0000\n",
      "Epoch 52/100\n",
      "24/24 [==============================] - 0s 652us/step - loss: 0.1569 - accuracy: 1.0000\n",
      "Epoch 53/100\n",
      "24/24 [==============================] - 0s 565us/step - loss: 0.1541 - accuracy: 1.0000\n",
      "Epoch 54/100\n",
      "24/24 [==============================] - 0s 661us/step - loss: 0.1513 - accuracy: 1.0000\n",
      "Epoch 55/100\n",
      "24/24 [==============================] - 0s 565us/step - loss: 0.1487 - accuracy: 1.0000\n",
      "Epoch 56/100\n",
      "24/24 [==============================] - 0s 522us/step - loss: 0.1461 - accuracy: 1.0000\n",
      "Epoch 57/100\n",
      "24/24 [==============================] - 0s 570us/step - loss: 0.1435 - accuracy: 1.0000\n",
      "Epoch 58/100\n",
      "24/24 [==============================] - 0s 565us/step - loss: 0.1410 - accuracy: 1.0000\n",
      "Epoch 59/100\n",
      "24/24 [==============================] - 0s 957us/step - loss: 0.1386 - accuracy: 1.0000\n",
      "Epoch 60/100\n",
      "24/24 [==============================] - 0s 566us/step - loss: 0.1362 - accuracy: 1.0000\n",
      "Epoch 61/100\n",
      "24/24 [==============================] - 0s 566us/step - loss: 0.1339 - accuracy: 1.0000\n",
      "Epoch 62/100\n",
      "24/24 [==============================] - 0s 565us/step - loss: 0.1317 - accuracy: 1.0000\n",
      "Epoch 63/100\n",
      "24/24 [==============================] - 0s 609us/step - loss: 0.1295 - accuracy: 1.0000\n",
      "Epoch 64/100\n",
      "24/24 [==============================] - 0s 587us/step - loss: 0.1273 - accuracy: 1.0000\n",
      "Epoch 65/100\n",
      "24/24 [==============================] - 0s 565us/step - loss: 0.1252 - accuracy: 1.0000\n",
      "Epoch 66/100\n",
      "24/24 [==============================] - 0s 522us/step - loss: 0.1231 - accuracy: 1.0000\n",
      "Epoch 67/100\n",
      "24/24 [==============================] - 0s 572us/step - loss: 0.1211 - accuracy: 1.0000\n",
      "Epoch 68/100\n",
      "24/24 [==============================] - 0s 565us/step - loss: 0.1191 - accuracy: 1.0000\n",
      "Epoch 69/100\n",
      "24/24 [==============================] - 0s 570us/step - loss: 0.1172 - accuracy: 1.0000\n",
      "Epoch 70/100\n",
      "24/24 [==============================] - 0s 572us/step - loss: 0.1153 - accuracy: 1.0000\n",
      "Epoch 71/100\n",
      "24/24 [==============================] - 0s 522us/step - loss: 0.1134 - accuracy: 1.0000\n",
      "Epoch 72/100\n",
      "24/24 [==============================] - 0s 565us/step - loss: 0.1116 - accuracy: 1.0000\n",
      "Epoch 73/100\n",
      "24/24 [==============================] - 0s 574us/step - loss: 0.1098 - accuracy: 1.0000\n",
      "Epoch 74/100\n",
      "24/24 [==============================] - 0s 522us/step - loss: 0.1081 - accuracy: 1.0000\n",
      "Epoch 75/100\n",
      "24/24 [==============================] - 0s 609us/step - loss: 0.1064 - accuracy: 1.0000\n",
      "Epoch 76/100\n",
      "24/24 [==============================] - 0s 565us/step - loss: 0.1047 - accuracy: 1.0000\n",
      "Epoch 77/100\n",
      "24/24 [==============================] - 0s 652us/step - loss: 0.1031 - accuracy: 1.0000\n",
      "Epoch 78/100\n",
      "24/24 [==============================] - 0s 572us/step - loss: 0.1015 - accuracy: 1.0000\n",
      "Epoch 79/100\n",
      "24/24 [==============================] - 0s 565us/step - loss: 0.0999 - accuracy: 1.0000\n",
      "Epoch 80/100\n",
      "24/24 [==============================] - 0s 522us/step - loss: 0.0984 - accuracy: 1.0000\n",
      "Epoch 81/100\n"
     ]
    },
    {
     "name": "stdout",
     "output_type": "stream",
     "text": [
      "24/24 [==============================] - 0s 565us/step - loss: 0.0969 - accuracy: 1.0000\n",
      "Epoch 82/100\n",
      "24/24 [==============================] - 0s 530us/step - loss: 0.0954 - accuracy: 1.0000\n",
      "Epoch 83/100\n",
      "24/24 [==============================] - 0s 573us/step - loss: 0.0940 - accuracy: 1.0000\n",
      "Epoch 84/100\n",
      "24/24 [==============================] - 0s 599us/step - loss: 0.0926 - accuracy: 1.0000\n",
      "Epoch 85/100\n",
      "24/24 [==============================] - 0s 609us/step - loss: 0.0912 - accuracy: 1.0000\n",
      "Epoch 86/100\n",
      "24/24 [==============================] - 0s 568us/step - loss: 0.0898 - accuracy: 1.0000\n",
      "Epoch 87/100\n",
      "24/24 [==============================] - 0s 565us/step - loss: 0.0885 - accuracy: 1.0000\n",
      "Epoch 88/100\n",
      "24/24 [==============================] - 0s 479us/step - loss: 0.0872 - accuracy: 1.0000\n",
      "Epoch 89/100\n",
      "24/24 [==============================] - 0s 565us/step - loss: 0.0859 - accuracy: 1.0000\n",
      "Epoch 90/100\n",
      "24/24 [==============================] - 0s 522us/step - loss: 0.0847 - accuracy: 1.0000\n",
      "Epoch 91/100\n",
      "24/24 [==============================] - 0s 565us/step - loss: 0.0834 - accuracy: 1.0000\n",
      "Epoch 92/100\n",
      "24/24 [==============================] - 0s 569us/step - loss: 0.0822 - accuracy: 1.0000\n",
      "Epoch 93/100\n",
      "24/24 [==============================] - 0s 572us/step - loss: 0.0810 - accuracy: 1.0000\n",
      "Epoch 94/100\n",
      "24/24 [==============================] - 0s 522us/step - loss: 0.0798 - accuracy: 1.0000\n",
      "Epoch 95/100\n",
      "24/24 [==============================] - 0s 522us/step - loss: 0.0787 - accuracy: 1.0000\n",
      "Epoch 96/100\n",
      "24/24 [==============================] - 0s 525us/step - loss: 0.0775 - accuracy: 1.0000\n",
      "Epoch 97/100\n",
      "24/24 [==============================] - 0s 565us/step - loss: 0.0765 - accuracy: 1.0000\n",
      "Epoch 98/100\n",
      "24/24 [==============================] - 0s 570us/step - loss: 0.0754 - accuracy: 1.0000\n",
      "Epoch 99/100\n",
      "24/24 [==============================] - 0s 522us/step - loss: 0.0743 - accuracy: 1.0000\n",
      "Epoch 100/100\n",
      "24/24 [==============================] - 0s 565us/step - loss: 0.0733 - accuracy: 1.0000\n"
     ]
    }
   ],
   "source": [
    "# Fit the model to the trainig data\n",
    "fit_model=nn_model.fit(X_train_scaled, y_train, epochs=100)"
   ]
  },
  {
   "cell_type": "markdown",
   "id": "2cfcd625",
   "metadata": {},
   "source": [
    "VISUALIZE LOSS"
   ]
  },
  {
   "cell_type": "code",
   "execution_count": 11,
   "id": "9401b28b",
   "metadata": {},
   "outputs": [
    {
     "data": {
      "text/plain": [
       "<AxesSubplot:>"
      ]
     },
     "execution_count": 11,
     "metadata": {},
     "output_type": "execute_result"
    },
    {
     "data": {
      "image/png": "[encoded data removed]",
      "text/plain": [
       "<Figure size 432x288 with 1 Axes>"
      ]
     },
     "metadata": {
      "needs_background": "light"
     },
     "output_type": "display_data"
    }
   ],
   "source": [
    "# Creaste a DataFrame containing training history\n",
    "history_df = pd.DataFrame(fit_model.history, index=range(1,len(fit_model.history['loss'])+1))\n",
    "\n",
    "# PLot the loss\n",
    "history_df.plot(y='loss')"
   ]
  },
  {
   "cell_type": "code",
   "execution_count": 12,
   "id": "98d1fc83",
   "metadata": {},
   "outputs": [
    {
     "data": {
      "text/plain": [
       "<AxesSubplot:>"
      ]
     },
     "execution_count": 12,
     "metadata": {},
     "output_type": "execute_result"
    },
    {
     "data": {
      "image/png": "[encoded data removed]",
      "text/plain": [
       "<Figure size 432x288 with 1 Axes>"
      ]
     },
     "metadata": {
      "needs_background": "light"
     },
     "output_type": "display_data"
    }
   ],
   "source": [
    "# PLot the accuracy\n",
    "history_df.plot(y='accuracy')"
   ]
  },
  {
   "cell_type": "markdown",
   "id": "357d3aa3",
   "metadata": {},
   "source": [
    "Evalaute the model with the test data"
   ]
  },
  {
   "cell_type": "code",
   "execution_count": 13,
   "id": "1c0fd9ac",
   "metadata": {},
   "outputs": [
    {
     "name": "stdout",
     "output_type": "stream",
     "text": [
      "8/8 - 0s - loss: 0.0683 - accuracy: 1.0000 - 85ms/epoch - 11ms/step\n",
      "loss: 0.0683266744017601, Accuracy: 1.0\n"
     ]
    }
   ],
   "source": [
    "# Evaluate the model using the test data\n",
    "model_loss, model_accuracy = nn_model.evaluate(X_test_scaled, y_test, verbose=2)\n",
    "print(f'loss: {model_loss}, Accuracy: {model_accuracy}')"
   ]
  },
  {
   "cell_type": "markdown",
   "id": "6402a1d6",
   "metadata": {},
   "source": [
    "PREDICT ON A NEW DATASET"
   ]
  },
  {
   "cell_type": "code",
   "execution_count": 14,
   "id": "44c0c4f8",
   "metadata": {},
   "outputs": [
    {
     "data": {
      "text/plain": [
       "array([[0],\n",
       "       [1],\n",
       "       [0],\n",
       "       [1],\n",
       "       [0],\n",
       "       [0],\n",
       "       [1],\n",
       "       [1],\n",
       "       [1],\n",
       "       [0]])"
      ]
     },
     "execution_count": 14,
     "metadata": {},
     "output_type": "execute_result"
    }
   ],
   "source": [
    "# Predict the classification of a new set of blob data\n",
    "new_X, new_Y = make_blobs(n_samples=10, centers=2, n_features=2, random_state=78)\n",
    "new_X_scaled = X_scaler.transform(new_X)\n",
    "(nn_model.predict(new_X_scaled) > 0.5).astype(\"int32\")"
   ]
  },
  {
   "cell_type": "markdown",
   "id": "e6682fe9",
   "metadata": {},
   "source": [
    "MOON DATA"
   ]
  },
  {
   "cell_type": "code",
   "execution_count": 17,
   "id": "f7b9161a",
   "metadata": {},
   "outputs": [
    {
     "data": {
      "text/plain": [
       "<AxesSubplot:xlabel='Feature 1', ylabel='Feature 2'>"
      ]
     },
     "execution_count": 17,
     "metadata": {},
     "output_type": "execute_result"
    },
    {
     "data": {
      "image/png": "[encoded data removed]",
      "text/plain": [
       "<Figure size 432x288 with 2 Axes>"
      ]
     },
     "metadata": {
      "needs_background": "light"
     },
     "output_type": "display_data"
    }
   ],
   "source": [
    "from sklearn.datasets import make_moons\n",
    "\n",
    "# Creating dummy nonlinear data\n",
    "X_moons, y_moons = make_moons(n_samples=1000, noise =0.08, random_state = 78)\n",
    "\n",
    "# Transforming y_moons to a vertical vector\n",
    "y_moons= y_moons.reshape(-1,1)\n",
    "\n",
    "# Creating a DataFrame to plot the nonlinear dummy data\n",
    "df_moons = pd.DataFrame(X_moons, columns=['Feature 1', 'Feature 2'])\n",
    "df_moons['Target']=y_moons\n",
    "\n",
    "# Plot the nonlinear dummy data\n",
    "df_moons.plot.scatter(x='Feature 1', y='Feature 2', c= 'Target', colormap='winter')"
   ]
  },
  {
   "cell_type": "code",
   "execution_count": 18,
   "id": "3597d38e",
   "metadata": {},
   "outputs": [],
   "source": [
    "# Create training and testing sets\n",
    "X_moon_train, X_moon_test, y_moon_train, y_moon_test = train_test_split(\n",
    "    X_moons, y_moons, random_state=78)\n",
    "\n",
    "#Create the scaler instance\n",
    "X_moon_scaler = skl.preprocessing.StandardScaler()\n",
    "\n",
    "# Fit the scaler\n",
    "X_moon_scaler.fit(X_moon_train)\n",
    "\n",
    "# Scale the data\n",
    "X_moon_train_scaled = X_moon_scaler.transform(X_moon_train)\n",
    "X_moon_test_scaled = X_moon_scaler.transform(X_moon_test)"
   ]
  },
  {
   "cell_type": "code",
   "execution_count": 19,
   "id": "d65f8da0",
   "metadata": {},
   "outputs": [
    {
     "name": "stdout",
     "output_type": "stream",
     "text": [
      "Epoch 1/100\n",
      "24/24 [==============================] - 0s 954us/step - loss: 1.1028 - accuracy: 0.4893\n",
      "Epoch 2/100\n",
      "24/24 [==============================] - 0s 1ms/step - loss: 0.9386 - accuracy: 0.5240\n",
      "Epoch 3/100\n",
      "24/24 [==============================] - 0s 949us/step - loss: 0.8368 - accuracy: 0.5480\n",
      "Epoch 4/100\n",
      "24/24 [==============================] - 0s 976us/step - loss: 0.7695 - accuracy: 0.5747\n",
      "Epoch 5/100\n",
      "24/24 [==============================] - 0s 922us/step - loss: 0.7199 - accuracy: 0.5933\n",
      "Epoch 6/100\n",
      "24/24 [==============================] - 0s 1ms/step - loss: 0.6809 - accuracy: 0.6053\n",
      "Epoch 7/100\n",
      "24/24 [==============================] - 0s 953us/step - loss: 0.6493 - accuracy: 0.6267\n",
      "Epoch 8/100\n",
      "24/24 [==============================] - 0s 1ms/step - loss: 0.6221 - accuracy: 0.6400\n",
      "Epoch 9/100\n",
      "24/24 [==============================] - 0s 984us/step - loss: 0.5970 - accuracy: 0.6507\n",
      "Epoch 10/100\n",
      "24/24 [==============================] - 0s 989us/step - loss: 0.5742 - accuracy: 0.6653\n",
      "Epoch 11/100\n",
      "24/24 [==============================] - 0s 1ms/step - loss: 0.5521 - accuracy: 0.6787\n",
      "Epoch 12/100\n",
      "24/24 [==============================] - 0s 966us/step - loss: 0.5323 - accuracy: 0.6920\n",
      "Epoch 13/100\n",
      "24/24 [==============================] - 0s 1ms/step - loss: 0.5131 - accuracy: 0.6987\n",
      "Epoch 14/100\n",
      "24/24 [==============================] - 0s 967us/step - loss: 0.4955 - accuracy: 0.7080\n",
      "Epoch 15/100\n",
      "24/24 [==============================] - 0s 1ms/step - loss: 0.4788 - accuracy: 0.7240\n",
      "Epoch 16/100\n",
      "24/24 [==============================] - 0s 963us/step - loss: 0.4634 - accuracy: 0.7333\n",
      "Epoch 17/100\n",
      "24/24 [==============================] - 0s 1ms/step - loss: 0.4492 - accuracy: 0.7453\n",
      "Epoch 18/100\n",
      "24/24 [==============================] - 0s 969us/step - loss: 0.4361 - accuracy: 0.7560\n",
      "Epoch 19/100\n",
      "24/24 [==============================] - 0s 1ms/step - loss: 0.4237 - accuracy: 0.7600\n",
      "Epoch 20/100\n",
      "24/24 [==============================] - 0s 901us/step - loss: 0.4127 - accuracy: 0.7640\n",
      "Epoch 21/100\n",
      "24/24 [==============================] - 0s 1ms/step - loss: 0.4025 - accuracy: 0.7773\n",
      "Epoch 22/100\n",
      "24/24 [==============================] - 0s 983us/step - loss: 0.3929 - accuracy: 0.7867\n",
      "Epoch 23/100\n",
      "24/24 [==============================] - 0s 880us/step - loss: 0.3838 - accuracy: 0.7920\n",
      "Epoch 24/100\n",
      "24/24 [==============================] - 0s 979us/step - loss: 0.3755 - accuracy: 0.7947\n",
      "Epoch 25/100\n",
      "24/24 [==============================] - 0s 1ms/step - loss: 0.3674 - accuracy: 0.8027\n",
      "Epoch 26/100\n",
      "24/24 [==============================] - 0s 986us/step - loss: 0.3601 - accuracy: 0.8080\n",
      "Epoch 27/100\n",
      "24/24 [==============================] - 0s 1ms/step - loss: 0.3532 - accuracy: 0.8160\n",
      "Epoch 28/100\n",
      "24/24 [==============================] - 0s 1ms/step - loss: 0.3472 - accuracy: 0.8227\n",
      "Epoch 29/100\n",
      "24/24 [==============================] - 0s 1ms/step - loss: 0.3413 - accuracy: 0.8293\n",
      "Epoch 30/100\n",
      "24/24 [==============================] - 0s 970us/step - loss: 0.3362 - accuracy: 0.8360\n",
      "Epoch 31/100\n",
      "24/24 [==============================] - 0s 1ms/step - loss: 0.3316 - accuracy: 0.8427\n",
      "Epoch 32/100\n",
      "24/24 [==============================] - 0s 992us/step - loss: 0.3275 - accuracy: 0.8427\n",
      "Epoch 33/100\n",
      "24/24 [==============================] - 0s 1ms/step - loss: 0.3235 - accuracy: 0.8467\n",
      "Epoch 34/100\n",
      "24/24 [==============================] - 0s 921us/step - loss: 0.3202 - accuracy: 0.8533\n",
      "Epoch 35/100\n",
      "24/24 [==============================] - 0s 899us/step - loss: 0.3168 - accuracy: 0.8560\n",
      "Epoch 36/100\n",
      "24/24 [==============================] - 0s 874us/step - loss: 0.3139 - accuracy: 0.8600\n",
      "Epoch 37/100\n",
      "24/24 [==============================] - 0s 1ms/step - loss: 0.3112 - accuracy: 0.8640\n",
      "Epoch 38/100\n",
      "24/24 [==============================] - 0s 966us/step - loss: 0.3087 - accuracy: 0.8667\n",
      "Epoch 39/100\n",
      "24/24 [==============================] - 0s 1ms/step - loss: 0.3061 - accuracy: 0.8667\n",
      "Epoch 40/100\n",
      "24/24 [==============================] - 0s 913us/step - loss: 0.3040 - accuracy: 0.8667\n",
      "Epoch 41/100\n",
      "24/24 [==============================] - 0s 876us/step - loss: 0.3018 - accuracy: 0.8693\n",
      "Epoch 42/100\n",
      "24/24 [==============================] - 0s 907us/step - loss: 0.3000 - accuracy: 0.8707\n",
      "Epoch 43/100\n",
      "24/24 [==============================] - 0s 896us/step - loss: 0.2981 - accuracy: 0.8707\n",
      "Epoch 44/100\n",
      "24/24 [==============================] - 0s 859us/step - loss: 0.2963 - accuracy: 0.8707\n",
      "Epoch 45/100\n",
      "24/24 [==============================] - 0s 860us/step - loss: 0.2947 - accuracy: 0.8720\n",
      "Epoch 46/100\n",
      "24/24 [==============================] - 0s 850us/step - loss: 0.2933 - accuracy: 0.8733\n",
      "Epoch 47/100\n",
      "24/24 [==============================] - 0s 923us/step - loss: 0.2918 - accuracy: 0.8733\n",
      "Epoch 48/100\n",
      "24/24 [==============================] - 0s 870us/step - loss: 0.2904 - accuracy: 0.8733\n",
      "Epoch 49/100\n",
      "24/24 [==============================] - 0s 846us/step - loss: 0.2892 - accuracy: 0.8733\n",
      "Epoch 50/100\n",
      "24/24 [==============================] - 0s 898us/step - loss: 0.2878 - accuracy: 0.8733\n",
      "Epoch 51/100\n",
      "24/24 [==============================] - 0s 844us/step - loss: 0.2866 - accuracy: 0.8747\n",
      "Epoch 52/100\n",
      "24/24 [==============================] - 0s 855us/step - loss: 0.2855 - accuracy: 0.8760\n",
      "Epoch 53/100\n",
      "24/24 [==============================] - 0s 878us/step - loss: 0.2844 - accuracy: 0.8787\n",
      "Epoch 54/100\n",
      "24/24 [==============================] - 0s 919us/step - loss: 0.2833 - accuracy: 0.8800\n",
      "Epoch 55/100\n",
      "24/24 [==============================] - 0s 870us/step - loss: 0.2823 - accuracy: 0.8813\n",
      "Epoch 56/100\n",
      "24/24 [==============================] - 0s 826us/step - loss: 0.2814 - accuracy: 0.8827\n",
      "Epoch 57/100\n",
      "24/24 [==============================] - 0s 882us/step - loss: 0.2805 - accuracy: 0.8840\n",
      "Epoch 58/100\n",
      "24/24 [==============================] - 0s 833us/step - loss: 0.2795 - accuracy: 0.8840\n",
      "Epoch 59/100\n",
      "24/24 [==============================] - 0s 783us/step - loss: 0.2787 - accuracy: 0.8853\n",
      "Epoch 60/100\n",
      "24/24 [==============================] - 0s 789us/step - loss: 0.2778 - accuracy: 0.8867\n",
      "Epoch 61/100\n",
      "24/24 [==============================] - 0s 834us/step - loss: 0.2771 - accuracy: 0.8880\n",
      "Epoch 62/100\n",
      "24/24 [==============================] - 0s 870us/step - loss: 0.2762 - accuracy: 0.8880\n",
      "Epoch 63/100\n",
      "24/24 [==============================] - 0s 913us/step - loss: 0.2754 - accuracy: 0.8893\n",
      "Epoch 64/100\n",
      "24/24 [==============================] - 0s 870us/step - loss: 0.2748 - accuracy: 0.8907\n",
      "Epoch 65/100\n",
      "24/24 [==============================] - 0s 878us/step - loss: 0.2741 - accuracy: 0.8907\n",
      "Epoch 66/100\n",
      "24/24 [==============================] - 0s 913us/step - loss: 0.2734 - accuracy: 0.8933\n",
      "Epoch 67/100\n",
      "24/24 [==============================] - 0s 876us/step - loss: 0.2728 - accuracy: 0.8920\n",
      "Epoch 68/100\n",
      "24/24 [==============================] - 0s 835us/step - loss: 0.2723 - accuracy: 0.8920\n",
      "Epoch 69/100\n",
      "24/24 [==============================] - 0s 913us/step - loss: 0.2716 - accuracy: 0.8933\n",
      "Epoch 70/100\n",
      "24/24 [==============================] - 0s 893us/step - loss: 0.2711 - accuracy: 0.8933\n",
      "Epoch 71/100\n",
      "24/24 [==============================] - 0s 905us/step - loss: 0.2705 - accuracy: 0.8933\n",
      "Epoch 72/100\n",
      "24/24 [==============================] - 0s 1ms/step - loss: 0.2702 - accuracy: 0.8933\n",
      "Epoch 73/100\n",
      "24/24 [==============================] - 0s 783us/step - loss: 0.2694 - accuracy: 0.8933\n",
      "Epoch 74/100\n",
      "24/24 [==============================] - 0s 826us/step - loss: 0.2689 - accuracy: 0.8933\n",
      "Epoch 75/100\n",
      "24/24 [==============================] - 0s 795us/step - loss: 0.2685 - accuracy: 0.8933\n",
      "Epoch 76/100\n",
      "24/24 [==============================] - 0s 870us/step - loss: 0.2680 - accuracy: 0.8933\n",
      "Epoch 77/100\n",
      "24/24 [==============================] - 0s 869us/step - loss: 0.2675 - accuracy: 0.8933\n",
      "Epoch 78/100\n",
      "24/24 [==============================] - 0s 826us/step - loss: 0.2671 - accuracy: 0.8933\n",
      "Epoch 79/100\n",
      "24/24 [==============================] - 0s 847us/step - loss: 0.2668 - accuracy: 0.8920\n",
      "Epoch 80/100\n",
      "24/24 [==============================] - 0s 870us/step - loss: 0.2664 - accuracy: 0.8920\n",
      "Epoch 81/100\n"
     ]
    },
    {
     "name": "stdout",
     "output_type": "stream",
     "text": [
      "24/24 [==============================] - 0s 875us/step - loss: 0.2659 - accuracy: 0.8920\n",
      "Epoch 82/100\n",
      "24/24 [==============================] - 0s 877us/step - loss: 0.2656 - accuracy: 0.8920\n",
      "Epoch 83/100\n",
      "24/24 [==============================] - 0s 786us/step - loss: 0.2652 - accuracy: 0.8920\n",
      "Epoch 84/100\n",
      "24/24 [==============================] - 0s 852us/step - loss: 0.2648 - accuracy: 0.8907\n",
      "Epoch 85/100\n",
      "24/24 [==============================] - 0s 826us/step - loss: 0.2645 - accuracy: 0.8907\n",
      "Epoch 86/100\n",
      "24/24 [==============================] - 0s 741us/step - loss: 0.2641 - accuracy: 0.8907\n",
      "Epoch 87/100\n",
      "24/24 [==============================] - 0s 783us/step - loss: 0.2638 - accuracy: 0.8907\n",
      "Epoch 88/100\n",
      "24/24 [==============================] - 0s 784us/step - loss: 0.2635 - accuracy: 0.8907\n",
      "Epoch 89/100\n",
      "24/24 [==============================] - 0s 739us/step - loss: 0.2631 - accuracy: 0.8907\n",
      "Epoch 90/100\n",
      "24/24 [==============================] - 0s 783us/step - loss: 0.2629 - accuracy: 0.8920\n",
      "Epoch 91/100\n",
      "24/24 [==============================] - 0s 745us/step - loss: 0.2626 - accuracy: 0.8920\n",
      "Epoch 92/100\n",
      "24/24 [==============================] - 0s 783us/step - loss: 0.2623 - accuracy: 0.8920\n",
      "Epoch 93/100\n",
      "24/24 [==============================] - 0s 783us/step - loss: 0.2620 - accuracy: 0.8920\n",
      "Epoch 94/100\n",
      "24/24 [==============================] - 0s 785us/step - loss: 0.2617 - accuracy: 0.8920\n",
      "Epoch 95/100\n",
      "24/24 [==============================] - 0s 794us/step - loss: 0.2614 - accuracy: 0.8920\n",
      "Epoch 96/100\n",
      "24/24 [==============================] - 0s 798us/step - loss: 0.2613 - accuracy: 0.8920\n",
      "Epoch 97/100\n",
      "24/24 [==============================] - 0s 804us/step - loss: 0.2609 - accuracy: 0.8920\n",
      "Epoch 98/100\n",
      "24/24 [==============================] - 0s 787us/step - loss: 0.2607 - accuracy: 0.8920\n",
      "Epoch 99/100\n",
      "24/24 [==============================] - 0s 826us/step - loss: 0.2605 - accuracy: 0.8920\n",
      "Epoch 100/100\n",
      "24/24 [==============================] - 0s 792us/step - loss: 0.2602 - accuracy: 0.8920\n"
     ]
    }
   ],
   "source": [
    "# Training the model with the nonlinear data\n",
    "model_moon = nn_model.fit(X_moon_train_scaled, y_moon_train, epochs=100, shuffle=True)"
   ]
  },
  {
   "cell_type": "code",
   "execution_count": 21,
   "id": "bc7b9d5d",
   "metadata": {},
   "outputs": [
    {
     "data": {
      "text/plain": [
       "<AxesSubplot:>"
      ]
     },
     "execution_count": 21,
     "metadata": {},
     "output_type": "execute_result"
    },
    {
     "data": {
      "image/png": "[encoded data removed]",
      "text/plain": [
       "<Figure size 432x288 with 1 Axes>"
      ]
     },
     "metadata": {
      "needs_background": "light"
     },
     "output_type": "display_data"
    }
   ],
   "source": [
    "# Create a DataFrame containing training history\n",
    "history_df = pd.DataFrame(model_moon.history, index=range(1,len(model_moon.history['loss'])+1))\n",
    "\n",
    "# Plot the loss\n",
    "history_df.plot(y='loss')"
   ]
  },
  {
   "cell_type": "code",
   "execution_count": 22,
   "id": "650e5e6e",
   "metadata": {},
   "outputs": [
    {
     "data": {
      "text/plain": [
       "<AxesSubplot:>"
      ]
     },
     "execution_count": 22,
     "metadata": {},
     "output_type": "execute_result"
    },
    {
     "data": {
      "image/png": "[encoded data removed]",
      "text/plain": [
       "<Figure size 432x288 with 1 Axes>"
      ]
     },
     "metadata": {
      "needs_background": "light"
     },
     "output_type": "display_data"
    }
   ],
   "source": [
    "# Plot the accuracy\n",
    "history_df.plot(y='accuracy')"
   ]
  },
  {
   "cell_type": "markdown",
   "id": "910b863f",
   "metadata": {},
   "source": [
    "MULTI-NEURAL MODEL: ADD ANOTHER SEQUENTIAL MODEL TO THE OVERALL MODEL"
   ]
  },
  {
   "cell_type": "code",
   "execution_count": 28,
   "id": "8c9cc823",
   "metadata": {},
   "outputs": [],
   "source": [
    "# Generate our new Sequential model\n",
    "new_model = tf.keras.models.Sequential()"
   ]
  },
  {
   "cell_type": "code",
   "execution_count": 30,
   "id": "cfef2df9",
   "metadata": {},
   "outputs": [],
   "source": [
    "# Add the input and the hidden layer\n",
    "number_inputs = 2\n",
    "number_hidden_nodes = 6\n",
    "new_model.add(tf.keras.layers.Dense(units=number_hidden_nodes, activation=\"relu\", input_dim=number_inputs))\n",
    "\n",
    "#add the output layer that uses a probablity activation function\n",
    "new_model.add(tf.keras.layers.Dense(units =1, activation = 'sigmoid'))"
   ]
  },
  {
   "cell_type": "code",
   "execution_count": 31,
   "id": "f2451f41",
   "metadata": {},
   "outputs": [
    {
     "name": "stdout",
     "output_type": "stream",
     "text": [
      "Epoch 1/100\n",
      "24/24 [==============================] - 0s 651us/step - loss: 0.5765 - accuracy: 0.5320\n",
      "Epoch 2/100\n",
      "24/24 [==============================] - 0s 612us/step - loss: 0.5436 - accuracy: 0.5773\n",
      "Epoch 3/100\n",
      "24/24 [==============================] - 0s 644us/step - loss: 0.5129 - accuracy: 0.7840\n",
      "Epoch 4/100\n",
      "24/24 [==============================] - 0s 668us/step - loss: 0.4846 - accuracy: 0.8280\n",
      "Epoch 5/100\n",
      "24/24 [==============================] - 0s 640us/step - loss: 0.4594 - accuracy: 0.8360\n",
      "Epoch 6/100\n",
      "24/24 [==============================] - 0s 652us/step - loss: 0.4378 - accuracy: 0.8400\n",
      "Epoch 7/100\n",
      "24/24 [==============================] - 0s 671us/step - loss: 0.4189 - accuracy: 0.8493\n",
      "Epoch 8/100\n",
      "24/24 [==============================] - 0s 656us/step - loss: 0.4006 - accuracy: 0.8533\n",
      "Epoch 9/100\n",
      "24/24 [==============================] - 0s 685us/step - loss: 0.3824 - accuracy: 0.8600\n",
      "Epoch 10/100\n",
      "24/24 [==============================] - 0s 654us/step - loss: 0.3643 - accuracy: 0.8680\n",
      "Epoch 11/100\n",
      "24/24 [==============================] - 0s 592us/step - loss: 0.3455 - accuracy: 0.8760\n",
      "Epoch 12/100\n",
      "24/24 [==============================] - 0s 652us/step - loss: 0.3268 - accuracy: 0.8800\n",
      "Epoch 13/100\n",
      "24/24 [==============================] - 0s 612us/step - loss: 0.3101 - accuracy: 0.8827\n",
      "Epoch 14/100\n",
      "24/24 [==============================] - 0s 690us/step - loss: 0.2957 - accuracy: 0.8840\n",
      "Epoch 15/100\n",
      "24/24 [==============================] - 0s 630us/step - loss: 0.2831 - accuracy: 0.8840\n",
      "Epoch 16/100\n",
      "24/24 [==============================] - 0s 638us/step - loss: 0.2727 - accuracy: 0.8853\n",
      "Epoch 17/100\n",
      "24/24 [==============================] - 0s 594us/step - loss: 0.2623 - accuracy: 0.8880\n",
      "Epoch 18/100\n",
      "24/24 [==============================] - 0s 600us/step - loss: 0.2505 - accuracy: 0.8947\n",
      "Epoch 19/100\n",
      "24/24 [==============================] - 0s 637us/step - loss: 0.2379 - accuracy: 0.9053\n",
      "Epoch 20/100\n",
      "24/24 [==============================] - 0s 632us/step - loss: 0.2283 - accuracy: 0.9080\n",
      "Epoch 21/100\n",
      "24/24 [==============================] - 0s 638us/step - loss: 0.2203 - accuracy: 0.9080\n",
      "Epoch 22/100\n",
      "24/24 [==============================] - 0s 645us/step - loss: 0.2124 - accuracy: 0.9133\n",
      "Epoch 23/100\n",
      "24/24 [==============================] - 0s 586us/step - loss: 0.2055 - accuracy: 0.9160\n",
      "Epoch 24/100\n",
      "24/24 [==============================] - 0s 640us/step - loss: 0.1984 - accuracy: 0.9187\n",
      "Epoch 25/100\n",
      "24/24 [==============================] - 0s 683us/step - loss: 0.1922 - accuracy: 0.9200\n",
      "Epoch 26/100\n",
      "24/24 [==============================] - 0s 608us/step - loss: 0.1859 - accuracy: 0.9200\n",
      "Epoch 27/100\n",
      "24/24 [==============================] - 0s 663us/step - loss: 0.1803 - accuracy: 0.9253\n",
      "Epoch 28/100\n",
      "24/24 [==============================] - 0s 728us/step - loss: 0.1745 - accuracy: 0.9280\n",
      "Epoch 29/100\n",
      "24/24 [==============================] - 0s 606us/step - loss: 0.1689 - accuracy: 0.9320\n",
      "Epoch 30/100\n",
      "24/24 [==============================] - 0s 619us/step - loss: 0.1637 - accuracy: 0.9333\n",
      "Epoch 31/100\n",
      "24/24 [==============================] - 0s 681us/step - loss: 0.1583 - accuracy: 0.9400\n",
      "Epoch 32/100\n",
      "24/24 [==============================] - 0s 682us/step - loss: 0.1533 - accuracy: 0.9440\n",
      "Epoch 33/100\n",
      "24/24 [==============================] - 0s 646us/step - loss: 0.1485 - accuracy: 0.9493\n",
      "Epoch 34/100\n",
      "24/24 [==============================] - 0s 616us/step - loss: 0.1437 - accuracy: 0.9493\n",
      "Epoch 35/100\n",
      "24/24 [==============================] - 0s 607us/step - loss: 0.1391 - accuracy: 0.9520\n",
      "Epoch 36/100\n",
      "24/24 [==============================] - 0s 637us/step - loss: 0.1343 - accuracy: 0.9533\n",
      "Epoch 37/100\n",
      "24/24 [==============================] - 0s 594us/step - loss: 0.1298 - accuracy: 0.9547\n",
      "Epoch 38/100\n",
      "24/24 [==============================] - 0s 637us/step - loss: 0.1256 - accuracy: 0.9560\n",
      "Epoch 39/100\n",
      "24/24 [==============================] - 0s 639us/step - loss: 0.1215 - accuracy: 0.9587\n",
      "Epoch 40/100\n",
      "24/24 [==============================] - 0s 605us/step - loss: 0.1174 - accuracy: 0.9613\n",
      "Epoch 41/100\n",
      "24/24 [==============================] - 0s 625us/step - loss: 0.1134 - accuracy: 0.9640\n",
      "Epoch 42/100\n",
      "24/24 [==============================] - 0s 640us/step - loss: 0.1096 - accuracy: 0.9680\n",
      "Epoch 43/100\n",
      "24/24 [==============================] - 0s 638us/step - loss: 0.1059 - accuracy: 0.9680\n",
      "Epoch 44/100\n",
      "24/24 [==============================] - 0s 709us/step - loss: 0.1023 - accuracy: 0.9693\n",
      "Epoch 45/100\n",
      "24/24 [==============================] - 0s 630us/step - loss: 0.0989 - accuracy: 0.9720\n",
      "Epoch 46/100\n",
      "24/24 [==============================] - 0s 646us/step - loss: 0.0954 - accuracy: 0.9720\n",
      "Epoch 47/100\n",
      "24/24 [==============================] - 0s 669us/step - loss: 0.0921 - accuracy: 0.9720\n",
      "Epoch 48/100\n",
      "24/24 [==============================] - 0s 660us/step - loss: 0.0888 - accuracy: 0.9747\n",
      "Epoch 49/100\n",
      "24/24 [==============================] - 0s 597us/step - loss: 0.0856 - accuracy: 0.9747\n",
      "Epoch 50/100\n",
      "24/24 [==============================] - 0s 662us/step - loss: 0.0827 - accuracy: 0.9747\n",
      "Epoch 51/100\n",
      "24/24 [==============================] - 0s 650us/step - loss: 0.0799 - accuracy: 0.9747\n",
      "Epoch 52/100\n",
      "24/24 [==============================] - 0s 625us/step - loss: 0.0772 - accuracy: 0.9747\n",
      "Epoch 53/100\n",
      "24/24 [==============================] - 0s 616us/step - loss: 0.0744 - accuracy: 0.9760\n",
      "Epoch 54/100\n",
      "24/24 [==============================] - 0s 608us/step - loss: 0.0717 - accuracy: 0.9773\n",
      "Epoch 55/100\n",
      "24/24 [==============================] - 0s 609us/step - loss: 0.0690 - accuracy: 0.9773\n",
      "Epoch 56/100\n",
      "24/24 [==============================] - 0s 609us/step - loss: 0.0667 - accuracy: 0.9773\n",
      "Epoch 57/100\n",
      "24/24 [==============================] - 0s 565us/step - loss: 0.0642 - accuracy: 0.9787\n",
      "Epoch 58/100\n",
      "24/24 [==============================] - 0s 609us/step - loss: 0.0620 - accuracy: 0.9800\n",
      "Epoch 59/100\n",
      "24/24 [==============================] - 0s 623us/step - loss: 0.0600 - accuracy: 0.9800\n",
      "Epoch 60/100\n",
      "24/24 [==============================] - 0s 654us/step - loss: 0.0579 - accuracy: 0.9800\n",
      "Epoch 61/100\n",
      "24/24 [==============================] - 0s 613us/step - loss: 0.0557 - accuracy: 0.9800\n",
      "Epoch 62/100\n",
      "24/24 [==============================] - 0s 700us/step - loss: 0.0538 - accuracy: 0.9800\n",
      "Epoch 63/100\n",
      "24/24 [==============================] - 0s 615us/step - loss: 0.0519 - accuracy: 0.9800\n",
      "Epoch 64/100\n",
      "24/24 [==============================] - 0s 565us/step - loss: 0.0501 - accuracy: 0.9800\n",
      "Epoch 65/100\n",
      "24/24 [==============================] - 0s 636us/step - loss: 0.0482 - accuracy: 0.9813\n",
      "Epoch 66/100\n",
      "24/24 [==============================] - 0s 652us/step - loss: 0.0465 - accuracy: 0.9827\n",
      "Epoch 67/100\n",
      "24/24 [==============================] - 0s 609us/step - loss: 0.0448 - accuracy: 0.9840\n",
      "Epoch 68/100\n",
      "24/24 [==============================] - 0s 652us/step - loss: 0.0431 - accuracy: 0.9840\n",
      "Epoch 69/100\n",
      "24/24 [==============================] - 0s 652us/step - loss: 0.0411 - accuracy: 0.9853\n",
      "Epoch 70/100\n",
      "24/24 [==============================] - 0s 609us/step - loss: 0.0394 - accuracy: 0.9880\n",
      "Epoch 71/100\n",
      "24/24 [==============================] - 0s 652us/step - loss: 0.0377 - accuracy: 0.9933\n",
      "Epoch 72/100\n",
      "24/24 [==============================] - 0s 616us/step - loss: 0.0361 - accuracy: 0.9933\n",
      "Epoch 73/100\n",
      "24/24 [==============================] - 0s 634us/step - loss: 0.0345 - accuracy: 0.9933\n",
      "Epoch 74/100\n",
      "24/24 [==============================] - 0s 627us/step - loss: 0.0330 - accuracy: 0.9960\n",
      "Epoch 75/100\n",
      "24/24 [==============================] - 0s 678us/step - loss: 0.0315 - accuracy: 0.9947\n",
      "Epoch 76/100\n",
      "24/24 [==============================] - 0s 606us/step - loss: 0.0302 - accuracy: 0.9960\n",
      "Epoch 77/100\n",
      "24/24 [==============================] - 0s 609us/step - loss: 0.0290 - accuracy: 0.9973\n",
      "Epoch 78/100\n",
      "24/24 [==============================] - 0s 700us/step - loss: 0.0277 - accuracy: 0.9973\n",
      "Epoch 79/100\n",
      "24/24 [==============================] - 0s 565us/step - loss: 0.0267 - accuracy: 0.9973\n",
      "Epoch 80/100\n",
      "24/24 [==============================] - 0s 652us/step - loss: 0.0255 - accuracy: 0.9973\n",
      "Epoch 81/100\n"
     ]
    },
    {
     "name": "stdout",
     "output_type": "stream",
     "text": [
      "24/24 [==============================] - 0s 616us/step - loss: 0.0245 - accuracy: 0.9973\n",
      "Epoch 82/100\n",
      "24/24 [==============================] - 0s 609us/step - loss: 0.0237 - accuracy: 0.9973\n",
      "Epoch 83/100\n",
      "24/24 [==============================] - 0s 569us/step - loss: 0.0228 - accuracy: 0.9973\n",
      "Epoch 84/100\n",
      "24/24 [==============================] - 0s 609us/step - loss: 0.0220 - accuracy: 0.9973\n",
      "Epoch 85/100\n",
      "24/24 [==============================] - 0s 609us/step - loss: 0.0212 - accuracy: 0.9973\n",
      "Epoch 86/100\n",
      "24/24 [==============================] - 0s 620us/step - loss: 0.0206 - accuracy: 0.9973\n",
      "Epoch 87/100\n",
      "24/24 [==============================] - 0s 609us/step - loss: 0.0199 - accuracy: 0.9973\n",
      "Epoch 88/100\n",
      "24/24 [==============================] - 0s 613us/step - loss: 0.0193 - accuracy: 0.9973\n",
      "Epoch 89/100\n",
      "24/24 [==============================] - 0s 609us/step - loss: 0.0186 - accuracy: 0.9987\n",
      "Epoch 90/100\n",
      "24/24 [==============================] - 0s 620us/step - loss: 0.0180 - accuracy: 0.9987\n",
      "Epoch 91/100\n",
      "24/24 [==============================] - 0s 609us/step - loss: 0.0175 - accuracy: 0.9987\n",
      "Epoch 92/100\n",
      "24/24 [==============================] - 0s 613us/step - loss: 0.0170 - accuracy: 0.9987\n",
      "Epoch 93/100\n",
      "24/24 [==============================] - 0s 609us/step - loss: 0.0165 - accuracy: 0.9987\n",
      "Epoch 94/100\n",
      "24/24 [==============================] - 0s 609us/step - loss: 0.0161 - accuracy: 0.9987\n",
      "Epoch 95/100\n",
      "24/24 [==============================] - 0s 577us/step - loss: 0.0156 - accuracy: 0.9987\n",
      "Epoch 96/100\n",
      "24/24 [==============================] - 0s 609us/step - loss: 0.0152 - accuracy: 0.9987\n",
      "Epoch 97/100\n",
      "24/24 [==============================] - 0s 613us/step - loss: 0.0148 - accuracy: 0.9987\n",
      "Epoch 98/100\n",
      "24/24 [==============================] - 0s 652us/step - loss: 0.0144 - accuracy: 0.9987\n",
      "Epoch 99/100\n",
      "24/24 [==============================] - 0s 609us/step - loss: 0.0141 - accuracy: 0.9987\n",
      "Epoch 100/100\n",
      "24/24 [==============================] - 0s 657us/step - loss: 0.0137 - accuracy: 0.9987\n"
     ]
    }
   ],
   "source": [
    "# Compile the Sequential model together and customize metrics\n",
    "new_model.compile(loss='binary_crossentropy', optimizer ='adam', metrics =['accuracy'])\n",
    "\n",
    "# Fit the model to the training data\n",
    "new_fit_model = new_model.fit(X_moon_train_scaled, y_moon_train, epochs = 100, shuffle = True)"
   ]
  },
  {
   "cell_type": "code",
   "execution_count": null,
   "id": "99e8f8e6",
   "metadata": {},
   "outputs": [],
   "source": []
  },
  {
   "cell_type": "code",
   "execution_count": null,
   "id": "d5a30730",
   "metadata": {},
   "outputs": [],
   "source": []
  }
 ],
 "metadata": {
  "kernelspec": {
   "display_name": "mlenv",
   "language": "python",
   "name": "mlenv"
  },
  "language_info": {
   "codemirror_mode": {
    "name": "ipython",
    "version": 3
   },
   "file_extension": ".py",
   "mimetype": "text/x-python",
   "name": "python",
   "nbconvert_exporter": "python",
   "pygments_lexer": "ipython3",
   "version": "3.7.11"
  }
 },
 "nbformat": 4,
 "nbformat_minor": 5
}
